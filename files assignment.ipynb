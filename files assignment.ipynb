{
 "cells": [
  {
   "cell_type": "markdown",
   "id": "5d793672-b70c-46c8-8496-13bf6cda975a",
   "metadata": {},
   "source": [
    "# function used to open a file\n",
    "        i.The file can be opened ny using the open function\n",
    "        ii.The file can also be opened by using the combination of with and open function"
   ]
  },
  {
   "cell_type": "code",
   "execution_count": 1,
   "id": "95ca03b7-0d7a-4ad5-98e0-27bf58f7c4a7",
   "metadata": {},
   "outputs": [],
   "source": [
    "a=open(\"anand.txt\",\"w\")"
   ]
  },
  {
   "cell_type": "code",
   "execution_count": 2,
   "id": "b199d620-b1ed-44b2-bee8-7efd7c371673",
   "metadata": {},
   "outputs": [
    {
     "data": {
      "text/plain": [
       "44"
      ]
     },
     "execution_count": 2,
     "metadata": {},
     "output_type": "execute_result"
    }
   ],
   "source": [
    "a.write(\"hi this my file opening by using open method\")"
   ]
  },
  {
   "cell_type": "code",
   "execution_count": 3,
   "id": "23f60e9c-51a5-4763-af68-583cb457879a",
   "metadata": {},
   "outputs": [],
   "source": [
    "a.close()"
   ]
  },
  {
   "cell_type": "code",
   "execution_count": 4,
   "id": "439ba72e-5c72-4afa-af8e-4b3e3d970b3b",
   "metadata": {},
   "outputs": [],
   "source": [
    "a=open(\"anand.txt\",\"r\")"
   ]
  },
  {
   "cell_type": "code",
   "execution_count": 5,
   "id": "4b81f936-8fbe-4c61-b47f-5d4a396cfd64",
   "metadata": {},
   "outputs": [
    {
     "data": {
      "text/plain": [
       "'hi this my file opening by using open method'"
      ]
     },
     "execution_count": 5,
     "metadata": {},
     "output_type": "execute_result"
    }
   ],
   "source": [
    "a.read()"
   ]
  },
  {
   "cell_type": "code",
   "execution_count": 6,
   "id": "b50464fd-56f9-42cf-a1a1-e5c138a48c0c",
   "metadata": {},
   "outputs": [
    {
     "name": "stdout",
     "output_type": "stream",
     "text": [
      "hi this my file opening by using open method\n"
     ]
    }
   ],
   "source": [
    "with open(\"anand.txt\",\"r\") as f:\n",
    "    print(f.read())"
   ]
  },
  {
   "cell_type": "markdown",
   "id": "1134acca-5f53-4be8-98df-a4430791e75b",
   "metadata": {},
   "source": [
    "# importance of the close function in files\n",
    "        The close function is used to close the file which is opened.\n",
    "        in files after writing into the files if we want to see the information that is written in the file then first we have to close the file by using the close function\n",
    "            syntax::    f.close()"
   ]
  },
  {
   "cell_type": "code",
   "execution_count": 7,
   "id": "3445862b-4dd8-474f-a5a0-556daa689f30",
   "metadata": {},
   "outputs": [],
   "source": [
    "x=open(\"mohan.txt\",\"w\")"
   ]
  },
  {
   "cell_type": "code",
   "execution_count": 17,
   "id": "9e03e507-fc1b-48a1-b3fa-3e5b67111b33",
   "metadata": {},
   "outputs": [
    {
     "data": {
      "text/plain": [
       "34"
      ]
     },
     "execution_count": 17,
     "metadata": {},
     "output_type": "execute_result"
    }
   ],
   "source": [
    "x.write(\"I want to become a Data Scientist\\n\")"
   ]
  },
  {
   "cell_type": "code",
   "execution_count": 9,
   "id": "bf3b17d0-664f-412f-bcf4-d86f403b1c0e",
   "metadata": {},
   "outputs": [],
   "source": [
    "x.close()"
   ]
  },
  {
   "cell_type": "code",
   "execution_count": 10,
   "id": "15b9f251-9ea8-4094-bfad-c9253edefcbc",
   "metadata": {},
   "outputs": [],
   "source": [
    "x=open(\"mohan.txt\",\"r\")"
   ]
  },
  {
   "cell_type": "code",
   "execution_count": 11,
   "id": "a3e27525-befa-4c27-99be-7c0e90d26939",
   "metadata": {},
   "outputs": [
    {
     "data": {
      "text/plain": [
       "'I want to become a Data Scientist'"
      ]
     },
     "execution_count": 11,
     "metadata": {},
     "output_type": "execute_result"
    }
   ],
   "source": [
    "x.read()"
   ]
  },
  {
   "cell_type": "markdown",
   "id": "c710054f-07d0-4de0-9140-72e53356b932",
   "metadata": {},
   "source": [
    "# difference between read(),readline(),readlines() of files"
   ]
  },
  {
   "cell_type": "markdown",
   "id": "8f7b3e36-efa1-4c53-92db-9184042b3eb2",
   "metadata": {},
   "source": [
    "# read()\n",
    "        By using the read function of files we can read the entire file once at a time.\n",
    "        it returns the entire file as a single string."
   ]
  },
  {
   "cell_type": "code",
   "execution_count": 22,
   "id": "e4146163-5849-485b-a1f9-1eab6cf4c4a9",
   "metadata": {},
   "outputs": [],
   "source": [
    "x=open(\"mohan.txt\",\"a\")"
   ]
  },
  {
   "cell_type": "code",
   "execution_count": 23,
   "id": "3b918384-39fb-427a-9eb1-c730d4fcabfe",
   "metadata": {},
   "outputs": [
    {
     "data": {
      "text/plain": [
       "17"
      ]
     },
     "execution_count": 23,
     "metadata": {},
     "output_type": "execute_result"
    }
   ],
   "source": [
    "x.write(\"hi this is anand\\n\")"
   ]
  },
  {
   "cell_type": "code",
   "execution_count": 24,
   "id": "44a7bdd2-8f65-4092-8074-d62c166c48f3",
   "metadata": {},
   "outputs": [
    {
     "data": {
      "text/plain": [
       "38"
      ]
     },
     "execution_count": 24,
     "metadata": {},
     "output_type": "execute_result"
    }
   ],
   "source": [
    "x.write(\"at present i am learning data science\\n\")"
   ]
  },
  {
   "cell_type": "code",
   "execution_count": 25,
   "id": "7c2fdccb-34d4-4eb7-818c-f4e567faf51e",
   "metadata": {},
   "outputs": [],
   "source": [
    "x.close()"
   ]
  },
  {
   "cell_type": "code",
   "execution_count": 26,
   "id": "0716ff4b-d9be-4631-ab0f-0a343483ed72",
   "metadata": {},
   "outputs": [],
   "source": [
    "x=open(\"mohan.txt\",\"r\")"
   ]
  },
  {
   "cell_type": "code",
   "execution_count": 27,
   "id": "be67549a-523e-43ff-ad48-82fd73178ea1",
   "metadata": {},
   "outputs": [
    {
     "data": {
      "text/plain": [
       "'hi this is anandhi this is anand\\nI want to become a Data Scientist\\nat present i am learning data science\\nhi this is anand\\nat present i am learning data science\\n'"
      ]
     },
     "execution_count": 27,
     "metadata": {},
     "output_type": "execute_result"
    }
   ],
   "source": [
    "x.read()"
   ]
  },
  {
   "cell_type": "markdown",
   "id": "a7a85daa-e21a-4279-91af-0df31f39ab33",
   "metadata": {},
   "source": [
    "# readline()\n",
    "        It will read only a single line from the entire file\n",
    "        as the cursor is at starting it will read first line"
   ]
  },
  {
   "cell_type": "code",
   "execution_count": 29,
   "id": "a04c2d2b-2e6f-4dc5-8849-7e8e7bcf1ec5",
   "metadata": {},
   "outputs": [],
   "source": [
    "x.close()"
   ]
  },
  {
   "cell_type": "code",
   "execution_count": 31,
   "id": "34787165-1cd4-45c6-b1b2-8846212c9009",
   "metadata": {},
   "outputs": [],
   "source": [
    "x=open(\"mohan.txt\",\"r\")"
   ]
  },
  {
   "cell_type": "code",
   "execution_count": 32,
   "id": "2c99e87a-6bca-49fa-99c7-669a95cf1a7c",
   "metadata": {},
   "outputs": [
    {
     "data": {
      "text/plain": [
       "'hi this is anandhi this is anand\\n'"
      ]
     },
     "execution_count": 32,
     "metadata": {},
     "output_type": "execute_result"
    }
   ],
   "source": [
    "x.readline()"
   ]
  },
  {
   "cell_type": "markdown",
   "id": "5305c740-a053-4ff8-8c2d-457713e6d985",
   "metadata": {},
   "source": [
    "# readlines()\n",
    "        It will read a list of lines from the entire file"
   ]
  },
  {
   "cell_type": "code",
   "execution_count": 35,
   "id": "bb93f8c3-1d18-4e5c-a605-c63679f0c165",
   "metadata": {},
   "outputs": [
    {
     "data": {
      "text/plain": [
       "['nt to become a Data Scientist\\n',\n",
       " 'at present i am learning data science\\n',\n",
       " 'hi this is anand\\n',\n",
       " 'at present i am learning data science\\n']"
      ]
     },
     "execution_count": 35,
     "metadata": {},
     "output_type": "execute_result"
    }
   ],
   "source": [
    "x.readlines()"
   ]
  },
  {
   "cell_type": "markdown",
   "id": "ac554965-47a5-429f-a6fb-3c1b62fb495d",
   "metadata": {},
   "source": [
    "# importance of with statement in opening the files\n",
    "        Unlike open() where you have to close the file with the close() method, the with statement closes the file for you without you telling it to.\n",
    "\n",
    "        This is because the with statement calls 2 built-in methods behind the scene – __enter()__ and __exit()__.\n",
    "\n",
    "        The __exit()__ method closes the file when the operation you specify is done."
   ]
  },
  {
   "cell_type": "markdown",
   "id": "9ea894f9-fc3d-4c9b-89e2-9af429d9424b",
   "metadata": {},
   "source": [
    "# importance of write and writelines functions in files\n",
    "        The main difference between the write() and writelines() in Python is that write() is used to write a string to an already opened file \n",
    "        while the writelines() method is used to write a list of strings in an opened file.\n",
    "\n",
    "        write() method takes a string as an argument and writes it to the text file.\n",
    "        writelines() method is used to write multiple strings to a file. We need to pass an iterable object like lists, tuples, etc.\n",
    "        containing strings to the writelines() method."
   ]
  },
  {
   "cell_type": "code",
   "execution_count": 36,
   "id": "66cde827-916e-4736-ad51-6a747c25b3c5",
   "metadata": {},
   "outputs": [],
   "source": [
    "x=open(\"mohan.txt\",\"w\")"
   ]
  },
  {
   "cell_type": "code",
   "execution_count": null,
   "id": "e244f438-4d9f-47cc-854f-0861dbbef1fc",
   "metadata": {},
   "outputs": [],
   "source": [
    "x.write"
   ]
  }
 ],
 "metadata": {
  "kernelspec": {
   "display_name": "Python 3 (ipykernel)",
   "language": "python",
   "name": "python3"
  },
  "language_info": {
   "codemirror_mode": {
    "name": "ipython",
    "version": 3
   },
   "file_extension": ".py",
   "mimetype": "text/x-python",
   "name": "python",
   "nbconvert_exporter": "python",
   "pygments_lexer": "ipython3",
   "version": "3.9.13"
  }
 },
 "nbformat": 4,
 "nbformat_minor": 5
}
